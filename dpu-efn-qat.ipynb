{
 "cells": [
  {
   "cell_type": "code",
   "execution_count": 1,
   "metadata": {},
   "outputs": [],
   "source": [
    "import numpy as np\n",
    "import tensorflow as tf\n",
    "import dpu_efn\n",
    "from lite import efficientnet_lite_builder\n",
    "import efficientnet_builder\n",
    "from pathlib import Path\n",
    "import shutil\n",
    "import numpy as np\n",
    "import utils\n",
    "import torch\n",
    "from scipy import special\n",
    "import queue"
   ]
  },
  {
   "cell_type": "markdown",
   "metadata": {},
   "source": [
    "## Rebuild efficientnet lite 0 for ultra96v2 board usage"
   ]
  },
  {
   "cell_type": "code",
   "execution_count": 2,
   "metadata": {},
   "outputs": [
    {
     "name": "stdout",
     "output_type": "stream",
     "text": [
      "WARNING:tensorflow:From /Users/maolin/opt/anaconda3/lib/python3.7/site-packages/tensorflow_core/python/ops/resource_variable_ops.py:1630: calling BaseResourceVariable.__init__ (from tensorflow.python.ops.resource_variable_ops) with constraint is deprecated and will be removed in a future version.\n",
      "Instructions for updating:\n",
      "If using Keras pass *_constraint arguments to layers.\n"
     ]
    },
    {
     "name": "stderr",
     "output_type": "stream",
     "text": [
      "WARNING:tensorflow:From /Users/maolin/opt/anaconda3/lib/python3.7/site-packages/tensorflow_core/python/ops/resource_variable_ops.py:1630: calling BaseResourceVariable.__init__ (from tensorflow.python.ops.resource_variable_ops) with constraint is deprecated and will be removed in a future version.\n",
      "Instructions for updating:\n",
      "If using Keras pass *_constraint arguments to layers.\n"
     ]
    },
    {
     "name": "stdout",
     "output_type": "stream",
     "text": [
      "Model Build complete!\n"
     ]
    }
   ],
   "source": [
    "images = tf.placeholder(tf.float32, shape=(1, 224, 224, 3), name='input')\n",
    "\n",
    "override_params = {}\n",
    "override_params['relu_fn'] = tf.nn.relu6\n",
    "\n",
    "blocks_args, global_params = efficientnet_lite_builder.get_model_params('efficientnet-lite0',override_params)\n",
    "\n",
    "override_filters={9:557,\n",
    "                  10:567,\n",
    "                  11:588,\n",
    "                  12:768,\n",
    "                  13:768,\n",
    "                  14:768,\n",
    "                  15:365,}\n",
    "\n",
    "model = dpu_efn.Model(blocks_args, global_params, override_filters)\n",
    "outputs = model(images,training=False)\n",
    "outputs = tf.identity(outputs, 'logits')\n",
    "\n",
    "print('Model Build complete!')"
   ]
  },
  {
   "cell_type": "code",
   "execution_count": 3,
   "metadata": {},
   "outputs": [],
   "source": [
    "sess = tf.Session()\n",
    "\n",
    "init = tf.global_variables_initializer()\n",
    "sess.run(init)"
   ]
  },
  {
   "cell_type": "markdown",
   "metadata": {},
   "source": [
    "# load pytorch model and fold bn into conv"
   ]
  },
  {
   "cell_type": "code",
   "execution_count": 4,
   "metadata": {},
   "outputs": [],
   "source": [
    "ckpt = torch.load('./quant_best_72_8.pth',map_location=torch.device('cpu'))\n",
    "torch_weights = ckpt.state_dict()\n",
    "torch_tensor_names = list(torch_weights.keys())"
   ]
  },
  {
   "cell_type": "markdown",
   "metadata": {},
   "source": [
    "# Assign the pytorch weights to built model"
   ]
  },
  {
   "cell_type": "code",
   "execution_count": 5,
   "metadata": {},
   "outputs": [
    {
     "name": "stdout",
     "output_type": "stream",
     "text": [
      "stem/conv2d/kernel:0 module._conv_stem.weight\n",
      "WARNING:tensorflow:From <ipython-input-5-73f3c0a06e1a>:19: Variable.load (from tensorflow.python.ops.variables) is deprecated and will be removed in a future version.\n",
      "Instructions for updating:\n",
      "Prefer Variable.assign which has equivalent behavior in 2.X.\n"
     ]
    },
    {
     "name": "stderr",
     "output_type": "stream",
     "text": [
      "WARNING:tensorflow:From <ipython-input-5-73f3c0a06e1a>:19: Variable.load (from tensorflow.python.ops.variables) is deprecated and will be removed in a future version.\n",
      "Instructions for updating:\n",
      "Prefer Variable.assign which has equivalent behavior in 2.X.\n"
     ]
    },
    {
     "name": "stdout",
     "output_type": "stream",
     "text": [
      "stem/conv2d/bias:0 module._conv_stem.bias\n",
      "blocks_0/depthwise_conv2d/depthwise_kernel:0 module._blocks.0._depthwise_conv.weight\n",
      "blocks_0/depthwise_conv2d/bias:0 module._blocks.0._depthwise_conv.bias\n",
      "blocks_0/conv2d/kernel:0 module._blocks.0._project_conv.weight\n",
      "blocks_0/conv2d/bias:0 module._blocks.0._project_conv.bias\n",
      "blocks_1/conv2d/kernel:0 module._blocks.1._expand_conv.weight\n",
      "blocks_1/conv2d/bias:0 module._blocks.1._expand_conv.bias\n",
      "blocks_1/depthwise_conv2d/depthwise_kernel:0 module._blocks.1._depthwise_conv.weight\n",
      "blocks_1/depthwise_conv2d/bias:0 module._blocks.1._depthwise_conv.bias\n",
      "blocks_1/conv2d_1/kernel:0 module._blocks.1._project_conv.weight\n",
      "blocks_1/conv2d_1/bias:0 module._blocks.1._project_conv.bias\n",
      "blocks_2/conv2d/kernel:0 module._blocks.2._expand_conv.weight\n",
      "blocks_2/conv2d/bias:0 module._blocks.2._expand_conv.bias\n",
      "blocks_2/depthwise_conv2d/depthwise_kernel:0 module._blocks.2._depthwise_conv.weight\n",
      "blocks_2/depthwise_conv2d/bias:0 module._blocks.2._depthwise_conv.bias\n",
      "blocks_2/conv2d_1/kernel:0 module._blocks.2._project_conv.weight\n",
      "blocks_2/conv2d_1/bias:0 module._blocks.2._project_conv.bias\n",
      "blocks_3/conv2d/kernel:0 module._blocks.3._expand_conv.weight\n",
      "blocks_3/conv2d/bias:0 module._blocks.3._expand_conv.bias\n",
      "blocks_3/depthwise_conv2d/depthwise_kernel:0 module._blocks.3._depthwise_conv.weight\n",
      "blocks_3/depthwise_conv2d/bias:0 module._blocks.3._depthwise_conv.bias\n",
      "blocks_3/conv2d_1/kernel:0 module._blocks.3._project_conv.weight\n",
      "blocks_3/conv2d_1/bias:0 module._blocks.3._project_conv.bias\n",
      "blocks_4/conv2d/kernel:0 module._blocks.4._expand_conv.weight\n",
      "blocks_4/conv2d/bias:0 module._blocks.4._expand_conv.bias\n",
      "blocks_4/depthwise_conv2d/depthwise_kernel:0 module._blocks.4._depthwise_conv.weight\n",
      "blocks_4/depthwise_conv2d/bias:0 module._blocks.4._depthwise_conv.bias\n",
      "blocks_4/conv2d_1/kernel:0 module._blocks.4._project_conv.weight\n",
      "blocks_4/conv2d_1/bias:0 module._blocks.4._project_conv.bias\n",
      "blocks_5/conv2d/kernel:0 module._blocks.5._expand_conv.weight\n",
      "blocks_5/conv2d/bias:0 module._blocks.5._expand_conv.bias\n",
      "blocks_5/depthwise_conv2d/depthwise_kernel:0 module._blocks.5._depthwise_conv.weight\n",
      "blocks_5/depthwise_conv2d/bias:0 module._blocks.5._depthwise_conv.bias\n",
      "blocks_5/conv2d_1/kernel:0 module._blocks.5._project_conv.weight\n",
      "blocks_5/conv2d_1/bias:0 module._blocks.5._project_conv.bias\n",
      "blocks_6/conv2d/kernel:0 module._blocks.6._expand_conv.weight\n",
      "blocks_6/conv2d/bias:0 module._blocks.6._expand_conv.bias\n",
      "blocks_6/depthwise_conv2d/depthwise_kernel:0 module._blocks.6._depthwise_conv.weight\n",
      "blocks_6/depthwise_conv2d/bias:0 module._blocks.6._depthwise_conv.bias\n",
      "blocks_6/conv2d_1/kernel:0 module._blocks.6._project_conv.weight\n",
      "blocks_6/conv2d_1/bias:0 module._blocks.6._project_conv.bias\n",
      "blocks_7/conv2d/kernel:0 module._blocks.7._expand_conv.weight\n",
      "blocks_7/conv2d/bias:0 module._blocks.7._expand_conv.bias\n",
      "blocks_7/depthwise_conv2d/depthwise_kernel:0 module._blocks.7._depthwise_conv.weight\n",
      "blocks_7/depthwise_conv2d/bias:0 module._blocks.7._depthwise_conv.bias\n",
      "blocks_7/conv2d_1/kernel:0 module._blocks.7._project_conv.weight\n",
      "blocks_7/conv2d_1/bias:0 module._blocks.7._project_conv.bias\n",
      "blocks_8/conv2d/kernel:0 module._blocks.8._expand_conv.weight\n",
      "blocks_8/conv2d/bias:0 module._blocks.8._expand_conv.bias\n",
      "blocks_8/depthwise_conv2d/depthwise_kernel:0 module._blocks.8._depthwise_conv.weight\n",
      "blocks_8/depthwise_conv2d/bias:0 module._blocks.8._depthwise_conv.bias\n",
      "blocks_8/conv2d_1/kernel:0 module._blocks.8._project_conv.weight\n",
      "blocks_8/conv2d_1/bias:0 module._blocks.8._project_conv.bias\n",
      "blocks_9/conv2d/kernel:0 module._blocks.9._expand_conv.weight\n",
      "blocks_9/conv2d/bias:0 module._blocks.9._expand_conv.bias\n",
      "blocks_9/depthwise_conv2d/depthwise_kernel:0 module._blocks.9._depthwise_conv.weight\n",
      "blocks_9/depthwise_conv2d/bias:0 module._blocks.9._depthwise_conv.bias\n",
      "blocks_9/conv2d_1/kernel:0 module._blocks.9._project_conv.weight\n",
      "blocks_9/conv2d_1/bias:0 module._blocks.9._project_conv.bias\n",
      "blocks_10/conv2d/kernel:0 module._blocks.10._expand_conv.weight\n",
      "blocks_10/conv2d/bias:0 module._blocks.10._expand_conv.bias\n",
      "blocks_10/depthwise_conv2d/depthwise_kernel:0 module._blocks.10._depthwise_conv.weight\n",
      "blocks_10/depthwise_conv2d/bias:0 module._blocks.10._depthwise_conv.bias\n",
      "blocks_10/conv2d_1/kernel:0 module._blocks.10._project_conv.weight\n",
      "blocks_10/conv2d_1/bias:0 module._blocks.10._project_conv.bias\n",
      "blocks_11/conv2d/kernel:0 module._blocks.11._expand_conv.weight\n",
      "blocks_11/conv2d/bias:0 module._blocks.11._expand_conv.bias\n",
      "blocks_11/depthwise_conv2d/depthwise_kernel:0 module._blocks.11._depthwise_conv.weight\n",
      "blocks_11/depthwise_conv2d/bias:0 module._blocks.11._depthwise_conv.bias\n",
      "blocks_11/conv2d_1/kernel:0 module._blocks.11._project_conv.weight\n",
      "blocks_11/conv2d_1/bias:0 module._blocks.11._project_conv.bias\n",
      "blocks_12/conv2d/kernel:0 module._blocks.12._expand_conv.weight\n",
      "blocks_12/conv2d/bias:0 module._blocks.12._expand_conv.bias\n",
      "blocks_12/depthwise_conv2d/depthwise_kernel:0 module._blocks.12._depthwise_conv.weight\n",
      "blocks_12/depthwise_conv2d/bias:0 module._blocks.12._depthwise_conv.bias\n",
      "blocks_12/conv2d_1/kernel:0 module._blocks.12._project_conv.weight\n",
      "blocks_12/conv2d_1/bias:0 module._blocks.12._project_conv.bias\n",
      "blocks_13/conv2d/kernel:0 module._blocks.13._expand_conv.weight\n",
      "blocks_13/conv2d/bias:0 module._blocks.13._expand_conv.bias\n",
      "blocks_13/depthwise_conv2d/depthwise_kernel:0 module._blocks.13._depthwise_conv.weight\n",
      "blocks_13/depthwise_conv2d/bias:0 module._blocks.13._depthwise_conv.bias\n",
      "blocks_13/conv2d_1/kernel:0 module._blocks.13._project_conv.weight\n",
      "blocks_13/conv2d_1/bias:0 module._blocks.13._project_conv.bias\n",
      "blocks_14/conv2d/kernel:0 module._blocks.14._expand_conv.weight\n",
      "blocks_14/conv2d/bias:0 module._blocks.14._expand_conv.bias\n",
      "blocks_14/depthwise_conv2d/depthwise_kernel:0 module._blocks.14._depthwise_conv.weight\n",
      "blocks_14/depthwise_conv2d/bias:0 module._blocks.14._depthwise_conv.bias\n",
      "blocks_14/conv2d_1/kernel:0 module._blocks.14._project_conv.weight\n",
      "blocks_14/conv2d_1/bias:0 module._blocks.14._project_conv.bias\n",
      "blocks_15/conv2d/kernel:0 module._blocks.15._expand_conv.weight\n",
      "blocks_15/conv2d/bias:0 module._blocks.15._expand_conv.bias\n",
      "blocks_15/depthwise_conv2d/depthwise_kernel:0 module._blocks.15._depthwise_conv.weight\n",
      "blocks_15/depthwise_conv2d/bias:0 module._blocks.15._depthwise_conv.bias\n",
      "blocks_15/conv2d_1/kernel:0 module._blocks.15._project_conv.weight\n",
      "blocks_15/conv2d_1/bias:0 module._blocks.15._project_conv.bias\n",
      "head/conv2d/kernel:0 module._conv_head.weight\n",
      "head/conv2d/bias:0 module._conv_head.bias\n",
      "head/dense/kernel:0 module._fc.weight\n",
      "head/dense/bias:0 module._fc.bias\n"
     ]
    }
   ],
   "source": [
    "all_variables = tf.get_collection(tf.GraphKeys.GLOBAL_VARIABLES)\n",
    "\n",
    "ti = 0\n",
    "\n",
    "for idx,v in enumerate(all_variables):\n",
    "    torch_value = torch_weights[torch_tensor_names[ti]].numpy()\n",
    "\n",
    "    # fix conv2d and depthwise conv \"CNHW\" weight format in pytorch\n",
    "    # in standard tf, the default weight format is \"HWNC\"\n",
    "    print(v.name,torch_tensor_names[ti])\n",
    "\n",
    "    if 'dense' in v.name and not 'bias' in v.name:\n",
    "        torch_value = np.transpose(torch_value,(1,0))\n",
    "    elif 'depthwise' in v.name and 'kernel' in v.name:\n",
    "        torch_value = np.transpose(torch_value,(2,3,0,1))\n",
    "    elif 'kernel' in v.name:\n",
    "        torch_value = np.transpose(torch_value,(2,3,1,0))\n",
    "    \n",
    "    v.load(torch_value,sess)\n",
    "    \n",
    "    ti += 1"
   ]
  },
  {
   "cell_type": "markdown",
   "metadata": {},
   "source": [
    "# Export Model"
   ]
  },
  {
   "cell_type": "code",
   "execution_count": 6,
   "metadata": {},
   "outputs": [],
   "source": [
    "simple_save_dir='./efn-dpu-0-simple-save'\n",
    "dirpath = Path(simple_save_dir)\n",
    "if dirpath.exists() and dirpath.is_dir():\n",
    "    shutil.rmtree(dirpath)"
   ]
  },
  {
   "cell_type": "code",
   "execution_count": 7,
   "metadata": {},
   "outputs": [
    {
     "name": "stdout",
     "output_type": "stream",
     "text": [
      "WARNING:tensorflow:From <ipython-input-7-f5875923f04c>:1: simple_save (from tensorflow.python.saved_model.simple_save) is deprecated and will be removed in a future version.\n",
      "Instructions for updating:\n",
      "This function will only be available through the v1 compatibility library as tf.compat.v1.saved_model.simple_save.\n"
     ]
    },
    {
     "name": "stderr",
     "output_type": "stream",
     "text": [
      "WARNING:tensorflow:From <ipython-input-7-f5875923f04c>:1: simple_save (from tensorflow.python.saved_model.simple_save) is deprecated and will be removed in a future version.\n",
      "Instructions for updating:\n",
      "This function will only be available through the v1 compatibility library as tf.compat.v1.saved_model.simple_save.\n"
     ]
    },
    {
     "name": "stdout",
     "output_type": "stream",
     "text": [
      "WARNING:tensorflow:From /Users/maolin/opt/anaconda3/lib/python3.7/site-packages/tensorflow_core/python/saved_model/signature_def_utils_impl.py:201: build_tensor_info (from tensorflow.python.saved_model.utils_impl) is deprecated and will be removed in a future version.\n",
      "Instructions for updating:\n",
      "This function will only be available through the v1 compatibility library as tf.compat.v1.saved_model.utils.build_tensor_info or tf.compat.v1.saved_model.build_tensor_info.\n"
     ]
    },
    {
     "name": "stderr",
     "output_type": "stream",
     "text": [
      "WARNING:tensorflow:From /Users/maolin/opt/anaconda3/lib/python3.7/site-packages/tensorflow_core/python/saved_model/signature_def_utils_impl.py:201: build_tensor_info (from tensorflow.python.saved_model.utils_impl) is deprecated and will be removed in a future version.\n",
      "Instructions for updating:\n",
      "This function will only be available through the v1 compatibility library as tf.compat.v1.saved_model.utils.build_tensor_info or tf.compat.v1.saved_model.build_tensor_info.\n"
     ]
    },
    {
     "name": "stdout",
     "output_type": "stream",
     "text": [
      "INFO:tensorflow:Assets added to graph.\n"
     ]
    },
    {
     "name": "stderr",
     "output_type": "stream",
     "text": [
      "INFO:tensorflow:Assets added to graph.\n"
     ]
    },
    {
     "name": "stdout",
     "output_type": "stream",
     "text": [
      "INFO:tensorflow:No assets to write.\n"
     ]
    },
    {
     "name": "stderr",
     "output_type": "stream",
     "text": [
      "INFO:tensorflow:No assets to write.\n"
     ]
    },
    {
     "name": "stdout",
     "output_type": "stream",
     "text": [
      "INFO:tensorflow:SavedModel written to: ./efn-dpu-0-simple-save/saved_model.pb\n"
     ]
    },
    {
     "name": "stderr",
     "output_type": "stream",
     "text": [
      "INFO:tensorflow:SavedModel written to: ./efn-dpu-0-simple-save/saved_model.pb\n"
     ]
    }
   ],
   "source": [
    "tf.saved_model.simple_save(sess,'./efn-dpu-0-simple-save',inputs={\"input\":images},outputs={'logits':outputs})"
   ]
  },
  {
   "cell_type": "code",
   "execution_count": 8,
   "metadata": {},
   "outputs": [
    {
     "name": "stdout",
     "output_type": "stream",
     "text": [
      "2020-09-10 21:09:44.617357: I tensorflow/core/platform/cpu_feature_guard.cc:142] Your CPU supports instructions that this TensorFlow binary was not compiled to use: AVX2 FMA\n",
      "2020-09-10 21:09:44.632934: I tensorflow/compiler/xla/service/service.cc:168] XLA service 0x7fb1bd9654e0 initialized for platform Host (this does not guarantee that XLA will be used). Devices:\n",
      "2020-09-10 21:09:44.632952: I tensorflow/compiler/xla/service/service.cc:176]   StreamExecutor device (0): Host, Default Version\n",
      "WARNING:tensorflow:From /Users/maolin/opt/anaconda3/lib/python3.7/site-packages/tensorflow_core/python/tools/freeze_graph.py:161: load (from tensorflow.python.saved_model.loader_impl) is deprecated and will be removed in a future version.\n",
      "Instructions for updating:\n",
      "This function will only be available through the v1 compatibility library as tf.compat.v1.saved_model.loader.load or tf.compat.v1.saved_model.load. There will be a new function for importing SavedModels in Tensorflow 2.0.\n",
      "W0910 21:09:44.633364 4566756800 deprecation.py:323] From /Users/maolin/opt/anaconda3/lib/python3.7/site-packages/tensorflow_core/python/tools/freeze_graph.py:161: load (from tensorflow.python.saved_model.loader_impl) is deprecated and will be removed in a future version.\n",
      "Instructions for updating:\n",
      "This function will only be available through the v1 compatibility library as tf.compat.v1.saved_model.loader.load or tf.compat.v1.saved_model.load. There will be a new function for importing SavedModels in Tensorflow 2.0.\n",
      "INFO:tensorflow:Restoring parameters from ./efn-dpu-0-simple-save/variables/variables\n",
      "I0910 21:09:44.850630 4566756800 saver.py:1284] Restoring parameters from ./efn-dpu-0-simple-save/variables/variables\n",
      "WARNING:tensorflow:From /Users/maolin/opt/anaconda3/lib/python3.7/site-packages/tensorflow_core/python/tools/freeze_graph.py:233: convert_variables_to_constants (from tensorflow.python.framework.graph_util_impl) is deprecated and will be removed in a future version.\n",
      "Instructions for updating:\n",
      "Use `tf.compat.v1.graph_util.convert_variables_to_constants`\n",
      "W0910 21:09:45.041343 4566756800 deprecation.py:323] From /Users/maolin/opt/anaconda3/lib/python3.7/site-packages/tensorflow_core/python/tools/freeze_graph.py:233: convert_variables_to_constants (from tensorflow.python.framework.graph_util_impl) is deprecated and will be removed in a future version.\n",
      "Instructions for updating:\n",
      "Use `tf.compat.v1.graph_util.convert_variables_to_constants`\n",
      "WARNING:tensorflow:From /Users/maolin/opt/anaconda3/lib/python3.7/site-packages/tensorflow_core/python/framework/graph_util_impl.py:277: extract_sub_graph (from tensorflow.python.framework.graph_util_impl) is deprecated and will be removed in a future version.\n",
      "Instructions for updating:\n",
      "Use `tf.compat.v1.graph_util.extract_sub_graph`\n",
      "W0910 21:09:45.041538 4566756800 deprecation.py:323] From /Users/maolin/opt/anaconda3/lib/python3.7/site-packages/tensorflow_core/python/framework/graph_util_impl.py:277: extract_sub_graph (from tensorflow.python.framework.graph_util_impl) is deprecated and will be removed in a future version.\n",
      "Instructions for updating:\n",
      "Use `tf.compat.v1.graph_util.extract_sub_graph`\n",
      "INFO:tensorflow:Froze 100 variables.\n",
      "I0910 21:09:45.180732 4566756800 graph_util_impl.py:334] Froze 100 variables.\n",
      "INFO:tensorflow:Converted 100 variables to const ops.\n",
      "I0910 21:09:45.234426 4566756800 graph_util_impl.py:394] Converted 100 variables to const ops.\n"
     ]
    }
   ],
   "source": [
    "!freeze_graph\\\n",
    "    --input_saved_model_dir './efn-dpu-0-simple-save/'\\\n",
    "    --input_binary true\\\n",
    "    --output_graph ./efn_dpu_0_frozen.pb\\\n",
    "    --output_node_names logits"
   ]
  },
  {
   "cell_type": "code",
   "execution_count": 9,
   "metadata": {},
   "outputs": [
    {
     "name": "stdout",
     "output_type": "stream",
     "text": [
      "efn_dpu_0_frozen.pb                           100%   14MB  83.2MB/s   00:00    \n"
     ]
    }
   ],
   "source": [
    "!scp ./efn_dpu_0_frozen.pb a2:/media/nvme/ultra-dev/"
   ]
  },
  {
   "cell_type": "code",
   "execution_count": 10,
   "metadata": {},
   "outputs": [],
   "source": [
    "#!scp . a2:/media/nvme/DPU-PYNQ/host/efn-dpu-p3/deploy_model.pb /efn_dpu_0_deploy_model.pb"
   ]
  }
 ],
 "metadata": {
  "kernelspec": {
   "display_name": "Python 3",
   "language": "python",
   "name": "python3"
  },
  "language_info": {
   "codemirror_mode": {
    "name": "ipython",
    "version": 3
   },
   "file_extension": ".py",
   "mimetype": "text/x-python",
   "name": "python",
   "nbconvert_exporter": "python",
   "pygments_lexer": "ipython3",
   "version": "3.7.9"
  }
 },
 "nbformat": 4,
 "nbformat_minor": 4
}
