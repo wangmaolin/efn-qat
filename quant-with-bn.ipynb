{
 "cells": [
  {
   "cell_type": "code",
   "execution_count": 1,
   "metadata": {},
   "outputs": [],
   "source": [
    "import numpy as np\n",
    "import tensorflow as tf\n",
    "import shutil\n",
    "import numpy as np\n",
    "import torch\n",
    "from scipy import special"
   ]
  },
  {
   "cell_type": "code",
   "execution_count": 10,
   "metadata": {},
   "outputs": [],
   "source": [
    "model = torch.load('./model-with-bn.pth')"
   ]
  },
  {
   "cell_type": "markdown",
   "metadata": {},
   "source": [
    "### quantize model"
   ]
  },
  {
   "cell_type": "code",
   "execution_count": 149,
   "metadata": {},
   "outputs": [],
   "source": [
    "def fix_quant(w, BITWIDTH = 7.0):\n",
    "    ''' get the quantization value '''\n",
    "    with torch.no_grad():\n",
    "        fp_range = torch.max(torch.absolute(w))\n",
    "        frac_digits = BITWIDTH-torch.ceil(torch.log2(fp_range))\n",
    "        # stochastic rounding\n",
    "        int_value = torch.floor(w*2.0**frac_digits)\n",
    "        frac_value = w*2.0**frac_digits - int_value\n",
    "        int_value += (frac_value>=torch.rand(int_value.shape)).float()\n",
    "        \n",
    "        fix_point_value = int_value*1.0/(2.0**frac_digits)\n",
    "        return fix_point_value\n",
    "        \n",
    "def layer_quant_with_bn(conv_layer, bn_layer):\n",
    "    with torch.no_grad():\n",
    "        bn_gamma = bn_layer.weight.data\n",
    "        bn_beta = bn_layer.bias.data\n",
    "        bn_mean = bn_layer.running_mean\n",
    "        bn_var = bn_layer.running_var\n",
    "        eps = bn_layer.eps\n",
    "        fold_factor = bn_gamma/torch.sqrt(bn_var+eps)\n",
    "        fold_bias = bn_beta-bn_mean*fold_factor\n",
    "        ''' transfer the quantization effect to beta in bn layer'''\n",
    "        bn_layer.beta.data = fix_quant(fold_bias)+bn_mean*fold_factor\n",
    "\n",
    "        fold_factor = torch.unsqueeze(fold_factor,1)\n",
    "        fold_factor = torch.unsqueeze(fold_factor,2)\n",
    "        fold_factor = torch.unsqueeze(fold_factor,3)\n",
    "        fold_weight = conv_layer.weight.data*fold_factor\n",
    "        ''' transfer the quantization effect to weight in conv layer'''\n",
    "        conv_layer.weight.data = fix_quant(fold_weight)/fold_factor\n",
    "\n",
    "def model_quant_with_bn(m):\n",
    "    m=m.module\n",
    "    \n",
    "    layer_quant_with_bn(m._conv_stem,m._bn0)\n",
    "    \n",
    "    for b in m._blocks:\n",
    "        if hasattr(b, '_expand_conv'):\n",
    "            layer_quant_with_bn(b._expand_conv,b._bn0)\n",
    "        layer_quant_with_bn(b._depthwise_conv,b._bn1)\n",
    "        layer_quant_with_bn(b._project_conv,b._bn2)\n",
    "    \n",
    "    layer_quant_with_bn(m._conv_head,m._bn1)\n",
    "    \n",
    "    layer_quant(m._fc)"
   ]
  },
  {
   "cell_type": "code",
   "execution_count": 12,
   "metadata": {},
   "outputs": [],
   "source": [
    "a=torch.Tensor([1.1,-1.1,1.9,-1.9])"
   ]
  },
  {
   "cell_type": "code",
   "execution_count": 13,
   "metadata": {},
   "outputs": [
    {
     "data": {
      "text/plain": [
       "tensor([ 0.1000, -0.1000,  0.9000, -0.9000])"
      ]
     },
     "execution_count": 13,
     "metadata": {},
     "output_type": "execute_result"
    }
   ],
   "source": [
    "a-a.type(torch.int).type(torch.float)"
   ]
  },
  {
   "cell_type": "code",
   "execution_count": 18,
   "metadata": {},
   "outputs": [
    {
     "data": {
      "text/plain": [
       "tensor([1., 0., 1., 0.])"
      ]
     },
     "execution_count": 18,
     "metadata": {},
     "output_type": "execute_result"
    }
   ],
   "source": [
    "(torch.sign(a)==1).type(torch.float)"
   ]
  },
  {
   "cell_type": "code",
   "execution_count": 19,
   "metadata": {},
   "outputs": [
    {
     "data": {
      "text/plain": [
       "tensor([ 1., -2.,  1., -2.])"
      ]
     },
     "execution_count": 19,
     "metadata": {},
     "output_type": "execute_result"
    }
   ],
   "source": [
    "torch.floor(a)"
   ]
  },
  {
   "cell_type": "code",
   "execution_count": 21,
   "metadata": {},
   "outputs": [
    {
     "data": {
      "text/plain": [
       "tensor([ 1., -1.,  1., -1.])"
      ]
     },
     "execution_count": 21,
     "metadata": {},
     "output_type": "execute_result"
    }
   ],
   "source": [
    "torch.clamp(a,-1,1)"
   ]
  },
  {
   "cell_type": "code",
   "execution_count": 172,
   "metadata": {},
   "outputs": [
    {
     "name": "stdout",
     "output_type": "stream",
     "text": [
      "92 8\n"
     ]
    }
   ],
   "source": [
    "t1=0\n",
    "t2=0\n",
    "for i in range(100):\n",
    "    q = fix_quant(a)[2].numpy()\n",
    "    if q == -1.0:\n",
    "        t1+=1\n",
    "    if q == -2.0:\n",
    "        t2+=1\n",
    "\n",
    "print(t1,t2)"
   ]
  },
  {
   "cell_type": "code",
   "execution_count": 24,
   "metadata": {},
   "outputs": [
    {
     "data": {
      "text/plain": [
       "tensor([0.0098, 0.3799])"
      ]
     },
     "execution_count": 24,
     "metadata": {},
     "output_type": "execute_result"
    }
   ],
   "source": [
    "torch.rand(a.shape)"
   ]
  },
  {
   "cell_type": "code",
   "execution_count": 88,
   "metadata": {},
   "outputs": [
    {
     "data": {
      "text/plain": [
       "0.015625"
      ]
     },
     "execution_count": 88,
     "metadata": {},
     "output_type": "execute_result"
    }
   ],
   "source": [
    "2/128"
   ]
  },
  {
   "cell_type": "code",
   "execution_count": null,
   "metadata": {},
   "outputs": [],
   "source": []
  }
 ],
 "metadata": {
  "kernelspec": {
   "display_name": "Python 3",
   "language": "python",
   "name": "python3"
  },
  "language_info": {
   "codemirror_mode": {
    "name": "ipython",
    "version": 3
   },
   "file_extension": ".py",
   "mimetype": "text/x-python",
   "name": "python",
   "nbconvert_exporter": "python",
   "pygments_lexer": "ipython3",
   "version": "3.7.6"
  }
 },
 "nbformat": 4,
 "nbformat_minor": 4
}
